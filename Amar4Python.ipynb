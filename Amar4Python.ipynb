{
 "cells": [
  {
   "cell_type": "markdown",
   "metadata": {},
   "source": [
    "`Python Class 31May'20`"
   ]
  },
  {
   "cell_type": "code",
   "execution_count": null,
   "metadata": {},
   "outputs": [],
   "source": [
    "msg = \"amazing python\""
   ]
  },
  {
   "cell_type": "code",
   "execution_count": null,
   "metadata": {},
   "outputs": [],
   "source": [
    "# accessing first charector\n",
    "msg[0]"
   ]
  },
  {
   "cell_type": "code",
   "execution_count": null,
   "metadata": {},
   "outputs": [],
   "source": [
    "msg[-1] # accessing last character"
   ]
  },
  {
   "cell_type": "code",
   "execution_count": null,
   "metadata": {},
   "outputs": [],
   "source": [
    "# get the total number of chRECTER\n",
    "print(len(msg))"
   ]
  },
  {
   "cell_type": "markdown",
   "metadata": {},
   "source": [
    "*string slicing**"
   ]
  },
  {
   "cell_type": "markdown",
   "metadata": {},
   "source": [
    "mag[?:?]"
   ]
  },
  {
   "cell_type": "markdown",
   "metadata": {},
   "source": [
    "mag[start_index : end_index]"
   ]
  },
  {
   "cell_type": "code",
   "execution_count": null,
   "metadata": {},
   "outputs": [],
   "source": [
    "print(msg)\n",
    "print(msg[ : 4])\n",
    "print(msg[3:])\n",
    "print(msg[3:7])\n",
    "print(msg[ :: 2])# : means repetition\n",
    "print(msg[ :: -1])"
   ]
  },
  {
   "cell_type": "code",
   "execution_count": null,
   "metadata": {},
   "outputs": [],
   "source": [
    "print(msg.upper())\n",
    "print(msg.lower())\n",
    "print(msg.capitalize())"
   ]
  },
  {
   "cell_type": "code",
   "execution_count": null,
   "metadata": {},
   "outputs": [],
   "source": [
    "msg.count('a') # return the occurenec frequency"
   ]
  },
  {
   "cell_type": "code",
   "execution_count": null,
   "metadata": {},
   "outputs": [],
   "source": [
    "tweet = 'Shimla is cool'"
   ]
  },
  {
   "cell_type": "code",
   "execution_count": null,
   "metadata": {},
   "outputs": [],
   "source": [
    "print(tweet[3])\n",
    "print(tweet[9:])\n",
    "print(tweet[4:])\n",
    "print(tweet[0:4])"
   ]
  },
  {
   "cell_type": "code",
   "execution_count": null,
   "metadata": {},
   "outputs": [],
   "source": [
    "msg.index('z')"
   ]
  },
  {
   "cell_type": "code",
   "execution_count": null,
   "metadata": {},
   "outputs": [],
   "source": [
    "A= msg[msg.index('z'): msg.index(' ')]\n",
    "print(A)"
   ]
  },
  {
   "cell_type": "code",
   "execution_count": null,
   "metadata": {},
   "outputs": [],
   "source": [
    "# how to get zing? without counting index manuualy \n",
    "print(msg[msg.index('z'): msg.index(' ')])"
   ]
  },
  {
   "cell_type": "code",
   "execution_count": null,
   "metadata": {},
   "outputs": [],
   "source": [
    "msg = 'How are you python'\n",
    "msg.index('o') # 1 is ondex of first o, how to access indes of second 0"
   ]
  },
  {
   "cell_type": "code",
   "execution_count": null,
   "metadata": {},
   "outputs": [],
   "source": [
    "msg.index('o',2) # second occurance "
   ]
  },
  {
   "cell_type": "code",
   "execution_count": null,
   "metadata": {},
   "outputs": [],
   "source": [
    "msg.index('o', 3)"
   ]
  },
  {
   "cell_type": "code",
   "execution_count": null,
   "metadata": {},
   "outputs": [],
   "source": [
    "# for index of all o in msg\n",
    "for item in enumerate(msg):\n",
    "    print(item)"
   ]
  },
  {
   "cell_type": "code",
   "execution_count": null,
   "metadata": {},
   "outputs": [],
   "source": [
    "msg = 'pythin is cool and cool again'\n",
    "for item in enumerate(msg):\n",
    "    if item[1] == 'i':\n",
    "        print(item)"
   ]
  },
  {
   "cell_type": "markdown",
   "metadata": {},
   "source": [
    "**List**"
   ]
  },
  {
   "cell_type": "code",
   "execution_count": null,
   "metadata": {},
   "outputs": [],
   "source": [
    "shopping_item = [\"smartphone\", \"books\",\"shoes\", 100, True, 99.9] # compound data \n",
    "# List is non premitive data structure \n",
    "# List is mutable i.e dynamic\n",
    "# List accomodate duplicate\n",
    "# List can be heterogeniuus in nature: can accomadte string, float, integer, boolean etc."
   ]
  },
  {
   "cell_type": "code",
   "execution_count": null,
   "metadata": {},
   "outputs": [],
   "source": [
    "# understanding premitive data structure"
   ]
  },
  {
   "cell_type": "code",
   "execution_count": null,
   "metadata": {},
   "outputs": [],
   "source": [
    "#list\n",
    "# lets create a blank list\n",
    "\n",
    "avengers = []"
   ]
  },
  {
   "cell_type": "code",
   "execution_count": null,
   "metadata": {},
   "outputs": [],
   "source": [
    "avengers = [\"Thor\", \"Ironman\",\"Blacjwidow\"]"
   ]
  },
  {
   "cell_type": "code",
   "execution_count": null,
   "metadata": {},
   "outputs": [],
   "source": [
    "avengers"
   ]
  },
  {
   "cell_type": "code",
   "execution_count": null,
   "metadata": {},
   "outputs": [],
   "source": [
    "avengers[0][1]"
   ]
  },
  {
   "cell_type": "code",
   "execution_count": null,
   "metadata": {},
   "outputs": [],
   "source": [
    "#list with a loop\n",
    "for hero in avengers:\n",
    "    print(hero)"
   ]
  },
  {
   "cell_type": "code",
   "execution_count": null,
   "metadata": {},
   "outputs": [],
   "source": [
    "# lest add one team members function is append\n",
    "avengers.append(\"AntMan\")\n",
    "avengers"
   ]
  },
  {
   "cell_type": "code",
   "execution_count": null,
   "metadata": {},
   "outputs": [],
   "source": [
    "avengers.append(\"hulk\")\n",
    "avengers"
   ]
  },
  {
   "cell_type": "code",
   "execution_count": null,
   "metadata": {},
   "outputs": [],
   "source": [
    "DC = [\"Dr.Strange\", \"Spider\"]\n",
    "DC"
   ]
  },
  {
   "cell_type": "code",
   "execution_count": null,
   "metadata": {},
   "outputs": [],
   "source": [
    "DC.pop() # pop() gives out the last element of a list"
   ]
  },
  {
   "cell_type": "code",
   "execution_count": null,
   "metadata": {},
   "outputs": [],
   "source": [
    "avengers.extend(\"A\",\"b\")\n",
    "avengers"
   ]
  },
  {
   "cell_type": "code",
   "execution_count": null,
   "metadata": {
    "scrolled": true
   },
   "outputs": [],
   "source": [
    "avengers.extend(DC) # to add more than one element at a time\n",
    "avengers  # extend takes only one argument as above so to more than one element, we need to make first one separate list \n",
    "# and then add the list with extend function"
   ]
  },
  {
   "cell_type": "code",
   "execution_count": null,
   "metadata": {},
   "outputs": [],
   "source": [
    "avengers.append(['A','B'])\n",
    "avengers"
   ]
  },
  {
   "cell_type": "code",
   "execution_count": null,
   "metadata": {},
   "outputs": [],
   "source": [
    "print(len(avengers))"
   ]
  },
  {
   "cell_type": "code",
   "execution_count": null,
   "metadata": {},
   "outputs": [],
   "source": [
    "# remove an element\n",
    "avengers.remove(\"hulk\")\n",
    "avengers"
   ]
  },
  {
   "cell_type": "code",
   "execution_count": null,
   "metadata": {},
   "outputs": [],
   "source": [
    "# to add at begining\n",
    "avengers.insert(0,\"Shaktiman\")\n",
    "avengers"
   ]
  },
  {
   "cell_type": "code",
   "execution_count": null,
   "metadata": {},
   "outputs": [],
   "source": [
    "avengers.insert(2,\"Heman\")\n",
    "avengers"
   ]
  },
  {
   "cell_type": "code",
   "execution_count": null,
   "metadata": {},
   "outputs": [],
   "source": [
    "numbers = [[1,2],[2,3],[3,4]]\n",
    "numbers"
   ]
  },
  {
   "cell_type": "code",
   "execution_count": null,
   "metadata": {},
   "outputs": [],
   "source": [
    "for items_1 in numbers:\n",
    "    print(items_1)"
   ]
  },
  {
   "cell_type": "code",
   "execution_count": null,
   "metadata": {},
   "outputs": [],
   "source": [
    "for items_1 in numbers:\n",
    "    for items_2 in items_1:\n",
    "        print(items_2) # flattening"
   ]
  },
  {
   "cell_type": "code",
   "execution_count": null,
   "metadata": {},
   "outputs": [],
   "source": [
    "# Home work prcaatice slicing on list"
   ]
  },
  {
   "cell_type": "code",
   "execution_count": null,
   "metadata": {},
   "outputs": [],
   "source": [
    "# Ninja techniques\n",
    "msg = \"dehradun is awesome and great place\""
   ]
  },
  {
   "cell_type": "code",
   "execution_count": null,
   "metadata": {},
   "outputs": [],
   "source": [
    "# string to list\n",
    "msg_list = list(msg)\n",
    "print(msg_list)"
   ]
  },
  {
   "cell_type": "code",
   "execution_count": null,
   "metadata": {},
   "outputs": [],
   "source": [
    "msg_1 = list(msg.split('_'))\n",
    "msg_1"
   ]
  },
  {
   "cell_type": "code",
   "execution_count": null,
   "metadata": {},
   "outputs": [],
   "source": [
    "word = msg.split(\" \")\n",
    "word"
   ]
  },
  {
   "cell_type": "code",
   "execution_count": null,
   "metadata": {},
   "outputs": [],
   "source": [
    "type(word)"
   ]
  },
  {
   "cell_type": "code",
   "execution_count": null,
   "metadata": {},
   "outputs": [],
   "source": [
    "# for item in words start with vowel\n",
    "for item in word:\n",
    "    if item[0] in 'aeiou':\n",
    "        print(item)"
   ]
  },
  {
   "cell_type": "code",
   "execution_count": null,
   "metadata": {},
   "outputs": [],
   "source": [
    "#converting list in string\n",
    "newmsg = '~'.join(word) # here ~ is delimiter\n",
    "newmsg"
   ]
  },
  {
   "cell_type": "code",
   "execution_count": null,
   "metadata": {},
   "outputs": [],
   "source": [
    "newmsg_1 = str(word)\n",
    "newmsg_1"
   ]
  },
  {
   "cell_type": "code",
   "execution_count": null,
   "metadata": {},
   "outputs": [],
   "source": [
    "type(newmsg_1)"
   ]
  },
  {
   "cell_type": "code",
   "execution_count": null,
   "metadata": {},
   "outputs": [],
   "source": [
    "#string to list\n",
    "a = 'I am Indian'\n",
    "b = list(a)\n",
    "print(b)"
   ]
  },
  {
   "cell_type": "code",
   "execution_count": null,
   "metadata": {},
   "outputs": [],
   "source": [
    "# string to list\n",
    "c = a.split(' ')\n",
    "c"
   ]
  },
  {
   "cell_type": "code",
   "execution_count": null,
   "metadata": {},
   "outputs": [],
   "source": [
    "# list to string\n",
    "d =' '.join(c)\n",
    "d"
   ]
  },
  {
   "cell_type": "markdown",
   "metadata": {},
   "source": [
    "**TUPLE**\n",
    "#Tupe are unmutable, Heterogenius in nature and repetition is allowed"
   ]
  },
  {
   "cell_type": "code",
   "execution_count": null,
   "metadata": {},
   "outputs": [],
   "source": [
    "days = ('sun', ' mon', 'tue', 'wed', 'Thur', 'Fri', 'Sat', 'Sun', 100, True)\n",
    "days"
   ]
  },
  {
   "cell_type": "code",
   "execution_count": null,
   "metadata": {},
   "outputs": [],
   "source": [
    "# convert tuple to list\n",
    "editable_days = list(days)\n",
    "editable_days"
   ]
  },
  {
   "cell_type": "code",
   "execution_count": null,
   "metadata": {},
   "outputs": [],
   "source": [
    "#list to tuple\n",
    "sometuple = tuple(editable_days)\n",
    "sometuple"
   ]
  },
  {
   "cell_type": "markdown",
   "metadata": {},
   "source": [
    "**SET**<br>\n",
    "set are mutable, duplication not allowed, unordered --- can not be inexed"
   ]
  },
  {
   "cell_type": "code",
   "execution_count": null,
   "metadata": {},
   "outputs": [],
   "source": [
    "team = {'sales', 'finanace', 'sales', 'sales', 'marketing'}\n",
    "team"
   ]
  },
  {
   "cell_type": "code",
   "execution_count": null,
   "metadata": {},
   "outputs": [],
   "source": [
    "# in list we can sort but set we can\n",
    "# if required convert the set in list then sort"
   ]
  },
  {
   "cell_type": "markdown",
   "metadata": {},
   "source": [
    "**Dictionary**"
   ]
  },
  {
   "cell_type": "code",
   "execution_count": null,
   "metadata": {},
   "outputs": [],
   "source": [
    "lang = {\"en\": \"English\", \"hi\": \"Hindi\", \"sp\": \"Spanish\", \"py\": \"Python\"}\n",
    "lang"
   ]
  },
  {
   "cell_type": "code",
   "execution_count": null,
   "metadata": {},
   "outputs": [],
   "source": [
    "# access a partcular value\n",
    "lang['hi']"
   ]
  },
  {
   "cell_type": "code",
   "execution_count": null,
   "metadata": {},
   "outputs": [],
   "source": [
    "lang.get(\"tl\", \"Not Available\")"
   ]
  },
  {
   "cell_type": "code",
   "execution_count": null,
   "metadata": {},
   "outputs": [],
   "source": [
    "#adding a new elemnt\n",
    "lang['tl'] = \"Telegu\"\n",
    "lang"
   ]
  },
  {
   "cell_type": "code",
   "execution_count": null,
   "metadata": {
    "scrolled": true
   },
   "outputs": [],
   "source": [
    "# for getting key of an dict\n",
    "for xyz in lang:\n",
    "    print(xyz)"
   ]
  },
  {
   "cell_type": "code",
   "execution_count": null,
   "metadata": {
    "scrolled": true
   },
   "outputs": [],
   "source": [
    "# for getting key & value pair of an dict (dic to tuple)\n",
    "for xyz in lang.items(): \n",
    "    print(xyz)"
   ]
  },
  {
   "cell_type": "code",
   "execution_count": null,
   "metadata": {},
   "outputs": [],
   "source": [
    "type(xyz)"
   ]
  },
  {
   "cell_type": "code",
   "execution_count": null,
   "metadata": {},
   "outputs": [],
   "source": [
    "# for getting key & value pair of an dict ( dic to string)\n",
    "for x,y in lang.items():\n",
    "    print(x,y)"
   ]
  },
  {
   "cell_type": "code",
   "execution_count": null,
   "metadata": {},
   "outputs": [],
   "source": [
    "type(x)"
   ]
  },
  {
   "cell_type": "code",
   "execution_count": null,
   "metadata": {},
   "outputs": [],
   "source": [
    "# Challenge #1\n",
    "tweet = \"i listen to #music it is #healing. #peace for all\"\n",
    "#tsk to extract the hastag\n",
    "#output:\n",
    "    #music\n",
    "    #healing\n",
    "    #peace\n",
    "    "
   ]
  },
  {
   "cell_type": "code",
   "execution_count": null,
   "metadata": {},
   "outputs": [],
   "source": [
    "for items in tweet.split(' '):\n",
    "    if items.startswith('#'):\n",
    "        print(items)"
   ]
  },
  {
   "cell_type": "code",
   "execution_count": null,
   "metadata": {},
   "outputs": [],
   "source": [
    "# alternatively\n",
    "for items in tweet.split(' '):\n",
    "    if items[0] == '#':\n",
    "        print(items)"
   ]
  },
  {
   "cell_type": "code",
   "execution_count": null,
   "metadata": {},
   "outputs": [],
   "source": [
    "# chalenge 2\n",
    "#users = [\"Ram Kumar\", \"Abhisekh Sing\", \"Preeti Sharma\"]\n",
    "#out put\n",
    "#Kumar.R\n",
    "#Singh.A\n",
    "#Sharma.P"
   ]
  },
  {
   "cell_type": "code",
   "execution_count": null,
   "metadata": {},
   "outputs": [],
   "source": [
    "users = [\"Ram Kumar\", \"Abhisekh Sing\", \"Preeti Sharma\"]\n",
    "for items in users:\n",
    "    full_name = items.split(' ')\n",
    "    fn = full_name[0]\n",
    "    ln = full_name[1]\n",
    "    print(ln +'.'+fn[0])"
   ]
  },
  {
   "cell_type": "code",
   "execution_count": null,
   "metadata": {},
   "outputs": [],
   "source": [
    "# difference of sort and sorted "
   ]
  },
  {
   "cell_type": "code",
   "execution_count": null,
   "metadata": {},
   "outputs": [],
   "source": [
    "L = [2,8,9,4,3,1]\n",
    "print(L)\n",
    "L.sort()"
   ]
  },
  {
   "cell_type": "code",
   "execution_count": null,
   "metadata": {},
   "outputs": [],
   "source": [
    "L1 = [5,7,9,4,3,2,1]\n",
    "print(L1)\n",
    "sorted(L1)"
   ]
  },
  {
   "cell_type": "code",
   "execution_count": null,
   "metadata": {},
   "outputs": [],
   "source": [
    "# graded question\n",
    "3*3**3"
   ]
  },
  {
   "cell_type": "code",
   "execution_count": null,
   "metadata": {},
   "outputs": [],
   "source": [
    "# graded question\n",
    "l = [32, 34, 12, 27, 33]\n",
    "l.append([14, 19])\n",
    "print(len(l))"
   ]
  },
  {
   "cell_type": "code",
   "execution_count": null,
   "metadata": {},
   "outputs": [],
   "source": [
    "paragraph = 'code for Python'\n",
    "single_word_list = []\n",
    "for sentence in paragraph:\n",
    "    for word in sentence.split():\n",
    "        single_word_list.append(word)\n",
    "        print( single_word_list)"
   ]
  },
  {
   "cell_type": "code",
   "execution_count": null,
   "metadata": {},
   "outputs": [],
   "source": [
    "[word for word in sentence.split() for sentence in paragraph]"
   ]
  },
  {
   "cell_type": "code",
   "execution_count": null,
   "metadata": {},
   "outputs": [],
   "source": [
    "[ item_2 for item_1 in paragraph for item_2 in item_1.split()] # note the construction"
   ]
  },
  {
   "cell_type": "code",
   "execution_count": null,
   "metadata": {},
   "outputs": [],
   "source": [
    "print(list(range(10, 1, -1)))"
   ]
  },
  {
   "cell_type": "code",
   "execution_count": null,
   "metadata": {},
   "outputs": [],
   "source": [
    "\"In a school, there are total 100 students numbered from 1 to 100. You’re given three lists named ‘C’, ‘F’, and ‘H’, representing students who play cricket, football, and hockey, respectively. Based on this information, find out and print the following: \\n\",\n",
    "    \"- Students who play all the three sports\\n\",\n",
    "    \"- Students who play both cricket and football but don’t play hockey\\n\",\n",
    "    \"- Students who play exactly two of the sports\\n\",\n",
    "    \"- Students who don’t play any of the three sports\"\n"
   ]
  },
  {
   "cell_type": "code",
   "execution_count": null,
   "metadata": {},
   "outputs": [],
   "source": [
    "C = [7, 8, 9, 18, 20, 21, 25, 26, 27, 31, 32, 34, 35, 36, 40, 43, 45, 47, 53, 58, 62, 67, 68, 71, 72, 74, 75, 76, 80, 81, 82, 90, 93, 95, 97, 99]\n",
    "F = [1, 7, 10, 13, 16, 22, 24, 29, 30, 32, 34, 39, 40, 43, 44, 48, 56, 60, 65, 68, 69, 73, 77, 78, 90, 93, 94, 95, 96]\n",
    "H = [5, 12, 14, 17, 20, 21, 22, 25, 28, 30, 37, 38, 39, 40, 42, 44, 57, 59, 61, 62, 67, 71, 75, 76, 77, 82, 83, 86, 87, 92, 94, 95]"
   ]
  },
  {
   "cell_type": "code",
   "execution_count": null,
   "metadata": {},
   "outputs": [],
   "source": [
    "type(H)"
   ]
  },
  {
   "cell_type": "code",
   "execution_count": null,
   "metadata": {},
   "outputs": [],
   "source": [
    "# Which are the students who play all the three sports?\n",
    "student = []\n",
    "for item in C:\n",
    "    if item in F:\n",
    "        if item in H:\n",
    "            student.append(item)\n",
    "print(student)\n"
   ]
  },
  {
   "cell_type": "code",
   "execution_count": null,
   "metadata": {},
   "outputs": [],
   "source": [
    "#Which are the players who play both cricket and hockey but don't play football?\n",
    "C_H_NOF = []\n",
    "for item in C:\n",
    "    if item in H:\n",
    "        if item not in F:\n",
    "            C_H_NOF.append(item)\n",
    "print(C_H_NOF)"
   ]
  },
  {
   "cell_type": "code",
   "execution_count": null,
   "metadata": {},
   "outputs": [],
   "source": [
    "# How many players play exactly two sports?\n",
    "players_2play = ((set(C) & set(H)) | (set(C) & set(F)) | (set(H) & set(F))) - (set(C) & set(H) & set(F))\n",
    "print(len(players_2play))"
   ]
  },
  {
   "cell_type": "code",
   "execution_count": null,
   "metadata": {},
   "outputs": [],
   "source": [
    "a = [1,2,3,7,4]\n",
    "b = [3,4,5,6]\n",
    "c = [3,5,7,8]\n",
    "aandb = set(a) & set(b)\n",
    "print(aandb)\n",
    "aandc = set(a) & set(c)\n",
    "print(aandc)\n",
    "candb = set(c) & set(b)\n",
    "print(candb)\n",
    "aandbandc = set(a) & set(b) & set(c)\n",
    "print(aandbandc)\n",
    "A = (aandb | aandc | candb) - (aandbandc)\n",
    "print(A)"
   ]
  },
  {
   "cell_type": "code",
   "execution_count": null,
   "metadata": {},
   "outputs": [],
   "source": [
    "# Which of these players do not play any of the sport? \n",
    "no_any_play = []\n",
    "total_student = list(range(1,101))\n",
    "for item in total_student:\n",
    "    if item not in C:\n",
    "        if item not in H:\n",
    "            if item not in F:\n",
    "                no_any_play.append(item)\n",
    "print(no_any_play)"
   ]
  },
  {
   "cell_type": "code",
   "execution_count": null,
   "metadata": {},
   "outputs": [],
   "source": [
    "#\"The `netflix` dictionary contains a list of 100 titles along with their total number of views in the past. \n",
    "# Based on the keys and values provided in this dictionary, answer the questions given below.\""
   ]
  },
  {
   "cell_type": "code",
   "execution_count": null,
   "metadata": {},
   "outputs": [],
   "source": [
    "netflix = {'The Debt Collector': 1821195, 'Act of Vengeance': 2804479, 'Paradise Lost': 2195477, \"Gerald's Gam\": 3650626, 'Long Shot': 638440, 'Mak Cun': 1010311, 'Our Souls at Night': 3028705, 'Out of Thin Air': 2681938, \"Paul Hollywood's Big Continental Road Trip\": 230689, 'Satu Hari': 1012350, 'Monster High: Boo York, Boo York': 1526025, 'Cultivating the Seas: History and Future of the Full-Cycle Cultured Kindai Tuna': 2762103, 'Domino': 872663, 'TUNA GIRL': 2574816, '5CM': 2647713, 'Animal World': 220789, 'Hold the Dark': 2307432, 'Lessons from a School Shooting: Notes from Dunblane': 2419534, 'Made in Mexico': 3653712, 'Single': 239278, 'The 3rd Eye': 196138, 'The Sinking Of Van Der Wijck': 2831856, 'Two Catalonias': 1337119, 'Bobby Sands: 66 Days': 2005623, 'Bard of Blood': 744998, 'Deliha 2': 3638900, 'Dragons: Rescue Riders': 3241239, 'In the Shadow of the Moon': 1213329, 'Skylines': 1840094, 'Sturgill Simpson Presents Sound & Fury': 1915540, 'The Politician': 1019394, 'Weeds on Fire': 2273090, 'Much Loved': 3039852, 'Joseph: King of Dreams': 1734449, 'Malaal': 1926128, 'The Grandmaster': 2549410, 'The Inmate': 130965, 'The Hurricane Heist': 2191538, 'Def Comedy Jam 25': 1392697, 'Restless Creature: Wendy Whelan': 2474412, 'Print the Legend': 548250, 'Birders': 3478883, 'Furie': 2755115, 'Leap!': 1401638, 'Oh! Baby (Malayalam)': 839139, 'Oh! Baby (Tamil)': 2691505, 'USS Indianapolis: Men of Courage': 3286014, 'A Wrinkle in Time': 1258861, 'Teach Us All': 2428947, 'White Island': 1152905, 'Inside Man: Most Wanted': 2812661, 'Jeff Dunham: Beside Himself': 2930368, 'China Salesman': 3377292, 'Swearnet: The Movie': 949689, 'The Bar': 620655, 'Manmadhudu 2': 1842761, 'Team Kaylie': 359856, 'Under the Eiffel Tower': 2298237, 'Audrie & Daisy': 1573055, 'Iliza Shlesinger: Confirmed Kills': 365220, 'BONDING': 1664242, 'Do Paise Ki Dhoop Chaar Aane Ki Baarish': 2770879, '20 Feet From Stardom': 2931730, 'In Darkness': 3248749, 'Gaga: Five Foot Two': 3719550, 'The Bad Batch': 3656264, 'SMOSH: The Movie': 3697506, 'King of Boys': 584112, 'Merry Men: The Real Yoruba Demons': 2035595, \"Sarah's Key\": 1337902, 'The Wedding Party 2: Destination Dubai': 1471204, 'Vagabond': 1600432, 'Battlefish': 723021, 'DRAGON PILOT: Hisone & Masotan': 602919, 'Hilda': 54948, 'Maniac': 1348196, 'Quincy': 2601704, 'Rafinha Bastos: Ultimatum': 3469996, 'The Good Cop': 2265521, 'Between Two Ferns: The Movie': 3146508, 'Criminal: France': 2021409, 'Criminal: Germany': 658824, 'Criminal: Spain': 3078634, 'Criminal: UK': 2721398, 'Daddy Issues': 2119035, \"Inside Bill's Brain: Decoding Bill Gates\": 1755104, 'The Hockey Girls': 2000507, 'Travel Mates 2': 707260, 'True: Tricky Treat Day': 3213199, 'Two Sentence Horror Stories': 2438329, 'Mad World': 2281773, 'Mobile Suit Gundam UC': 778879, 'The Bund': 1729892, 'The First Line': 674591, 'Maynard': 84986, 'Monkey Twins': 3277179, 'Bitcoin Heist': 1450158, 'I Am Not Madame Bovary': 2763830, 'Vincent N Roxxy': 1961810, \"Chef's Table: France\": 2065738} \n",
    "type(netflix)           \n",
    "           "
   ]
  },
  {
   "cell_type": "code",
   "execution_count": null,
   "metadata": {},
   "outputs": [],
   "source": [
    "# Q: There's an Indian movie in the dictionary named 'Do Paise Ki Dhoop Chaar Aane Ki Baarish'. What is the number of views for this movie?\n",
    "netflix['Do Paise Ki Dhoop Chaar Aane Ki Baarish']"
   ]
  },
  {
   "cell_type": "code",
   "execution_count": null,
   "metadata": {},
   "outputs": [],
   "source": [
    "# Q: Which of the shows is the most and least popular in terms of number of views?\n",
    "movie_list = list(netflix.keys())\n",
    "no_of_view = list(netflix.values())\n",
    "max_view = max(no_of_view)\n",
    "min_view = min(no_of_view)\n",
    "print(movie_list[no_of_view.index(max_view)])\n",
    "print(movie_list[no_of_view.index(min_view)])\n",
    "    \n"
   ]
  },
  {
   "cell_type": "code",
   "execution_count": null,
   "metadata": {},
   "outputs": [],
   "source": [
    "# Q: Netflix has just recieved the number of views for the last week as well. \n",
    "#Add these views to the total views and find the most popular title in terms of views. \n",
    "#Also find out how many views this title has? "
   ]
  },
  {
   "cell_type": "code",
   "execution_count": null,
   "metadata": {},
   "outputs": [],
   "source": [
    "netflix_last_week = {'The Debt Collector': 229218, 'Act of Vengeance': 191468, 'Paradise Lost': 167846, \"Gerald's Game\": 113298, 'Long Shot': 15190, 'Mak Cun': 244581, 'Our Souls at Night': 188095, 'Out of Thin Air': 183961, \"Paul Hollywood's Big Continental Road Trip\": 207967, 'Satu Hari': 226211, 'Monster High: Boo York, Boo York': 265919, 'Cultivating the Seas: History and Future of the Full-Cycle Cultured Kindai Tuna': 192246, 'Domino': 190538, 'TUNA GIRL': 301819, '5CM': 154371, 'Animal World': 228227, 'Hold the Dark': 222938, 'Lessons from a School Shooting: Notes from Dunblane': 256580, 'Made in Mexico': 199790, 'Single': 155517, 'The 3rd Eye': 251349, 'The Sinking Of Van Der Wijck': 153797, 'Two Catalonias': 189422, 'Bobby Sands: 66 Days': 202461, 'Bard of Blood': 241928, 'Deliha 2': 304552, 'Dragons: Rescue Riders': 155149, 'In the Shadow of the Moon': 222999, 'Skylines': 118737, 'Sturgill Simpson Presents Sound & Fury': 43590, 'The Politician': 11902, 'Weeds on Fire': 243382, 'Much Loved': 190123, 'Joseph: King of Dreams': 46104, 'Malaal': 70961, 'The Grandmaster': 44908, 'The Inmate': 19574, 'The Hurricane Heist': 167696, 'Def Comedy Jam 25': 208075, 'Restless Creature: Wendy Whelan': 22976, 'Print the Legend': 161584, 'Birders': 257668, 'Furie': 282266, 'Leap!': 124338, 'Oh! Baby (Malayalam)': 18203, 'Oh! Baby (Tamil)': 131481, 'USS Indianapolis: Men of Courage': 76558, 'A Wrinkle in Time': 169365, 'Teach Us All': 50378, 'White Island': 299779, 'Inside Man: Most Wanted': 123346, 'Jeff Dunham: Beside Himself': 283561, 'China Salesman': 182041, 'Swearnet: The Movie': 63809, 'The Bar': 41243, 'Manmadhudu 2': 261349, 'Team Kaylie': 101283, 'Under the Eiffel Tower': 83650, 'Audrie & Daisy': 106092, 'Iliza Shlesinger: Confirmed Kills': 255103, 'BONDING': 202683, 'Do Paise Ki Dhoop Chaar Aane Ki Baarish': 32329, '20 Feet From Stardom': 165178, 'In Darkness': 95259, 'Gaga: Five Foot Two': 36638, 'The Bad Batch': 197820, 'SMOSH: The Movie': 196519, 'King of Boys': 49332, 'Merry Men: The Real Yoruba Demons': 293229, \"Sarah's Key\": 178523, 'The Wedding Party 2: Destination Dubai': 51211, 'Vagabond': 116831, 'Battlefish': 5448, 'DRAGON PILOT: Hisone & Masotan': 281873, 'Hilda': 21348, 'Maniac': 268187, 'Quincy': 139696, 'Rafinha Bastos: Ultimatum': 105449, 'The Good Cop': 73230, 'Between Two Ferns: The Movie': 135600, 'Criminal: France': 243469, 'Criminal: Germany': 285211, 'Criminal: Spain': 45184, 'Criminal: UK': 117056, 'Daddy Issues': 267329, \"Inside Bill's Brain: Decoding Bill Gates\": 64083, 'The Hockey Girls': 114146, 'Travel Mates 2': 21088, 'True: Tricky Treat Day': 116504, 'Two Sentence Horror Stories': 274471, 'Mad World': 225244, 'Mobile Suit Gundam UC': 47306, 'The Bund': 146872, 'The First Line': 148861, 'Maynard': 87252, 'Monkey Twins': 199274, 'Bitcoin Heist': 41105, 'I Am Not Madame Bovary': 57841, 'Vincent N Roxxy': 207453, \"Chef's Table: France\": 200536}"
   ]
  },
  {
   "cell_type": "code",
   "execution_count": null,
   "metadata": {},
   "outputs": [],
   "source": [
    "no_of_view_lastweek = list(netflix_last_week.values())\n",
    "import numpy as np\n",
    "NP_no_of_view = np.array(no_of_view)\n",
    "NP_no_of_view_lastweek = np.array(no_of_view_lastweek)\n",
    "total_view = list(NP_no_of_view + NP_no_of_view_lastweek)\n",
    "print(movie_list[total_view.index(max(total_view))])\n",
    "print(max(total_view))"
   ]
  },
  {
   "cell_type": "code",
   "execution_count": null,
   "metadata": {},
   "outputs": [],
   "source": [
    "a = 1+2"
   ]
  },
  {
   "cell_type": "markdown",
   "metadata": {},
   "source": [
    "**Python Class on 6th June 2020**"
   ]
  },
  {
   "cell_type": "markdown",
   "metadata": {},
   "source": [
    "**List Comrehension<br> it is used to create a list out of an existing list in a faster way**\n",
    "**avoid writing very long list comprehension in one line to ensure that code is user friendly**\n",
    "**every list comprehenstion can be written in for loop but every for loop can not be written in list comprehenstion**"
   ]
  },
  {
   "cell_type": "code",
   "execution_count": null,
   "metadata": {},
   "outputs": [],
   "source": [
    "# syntax: [ _return_   task / logic     _condition_ ]"
   ]
  },
  {
   "cell_type": "code",
   "execution_count": null,
   "metadata": {},
   "outputs": [],
   "source": [
    "squ_list = [x*x for x in range(1,11)]\n",
    "squ_list"
   ]
  },
  {
   "cell_type": "code",
   "execution_count": null,
   "metadata": {},
   "outputs": [],
   "source": [
    "# to make square of odd numbers from within 1 to 20\n",
    "Squ_even = [ x**2 for x in range(1,21) if x % 2 == 1]\n",
    "Squ_even"
   ]
  },
  {
   "cell_type": "code",
   "execution_count": null,
   "metadata": {},
   "outputs": [],
   "source": [
    "#task to extract the # tagged words from the list\n",
    "words = [\"today\", 'is', \"a\", \"#cool\", \"day\", \"#amazing \", \"world\"]\n",
    "\n",
    "list = [ c for c in words if c[0] == \"#\"]\n",
    "list"
   ]
  },
  {
   "cell_type": "code",
   "execution_count": null,
   "metadata": {},
   "outputs": [],
   "source": [
    "# filter the integer using list comprehension\n",
    "garbage = ['a', 1, 'b', 'c', 2, 'd', 3]\n",
    "\n",
    "g = [c for c in garbage if type(c) == int]\n",
    "g"
   ]
  },
  {
   "cell_type": "code",
   "execution_count": null,
   "metadata": {},
   "outputs": [],
   "source": [
    "g = [c for c in garbage if isinstance(c,int)]\n",
    "g\n",
    "# isinstance() return the True if the specified object is of specified type, else false. Syntax : isinstance(object, type\n"
   ]
  },
  {
   "cell_type": "code",
   "execution_count": null,
   "metadata": {},
   "outputs": [],
   "source": [
    "# convert thee following list of name of fruits in uper case\n",
    "fruits = [ 'mango', 'apple', 'cherry', 'banana']\n"
   ]
  },
  {
   "cell_type": "code",
   "execution_count": null,
   "metadata": {},
   "outputs": [],
   "source": [
    "fruits_upper = [ c.upper() for c in fruits]\n",
    "fruits_upper"
   ]
  },
  {
   "cell_type": "markdown",
   "metadata": {},
   "source": [
    "**Dictionary Comprehension**\n",
    "**syntax: { key:value for variables in iterable item}"
   ]
  },
  {
   "cell_type": "code",
   "execution_count": null,
   "metadata": {},
   "outputs": [],
   "source": [
    "# generating squares \n",
    "numbers = [1,2,3,4,5,6]\n",
    "# Output 1:1. 2:4, 3:9, 4:16. 5:25. 6:36"
   ]
  },
  {
   "cell_type": "code",
   "execution_count": null,
   "metadata": {},
   "outputs": [],
   "source": [
    "{num : num**2 for num in numbers }"
   ]
  },
  {
   "cell_type": "code",
   "execution_count": null,
   "metadata": {},
   "outputs": [],
   "source": [
    "# Activity\n",
    "fruits = [\"apple\", \"mango\", \"cherry\", \"Orange\"]\n",
    "# output : fruit name : length of the name of fruit like apple : 5"
   ]
  },
  {
   "cell_type": "code",
   "execution_count": null,
   "metadata": {},
   "outputs": [],
   "source": [
    "g = {c : len(c) for c in fruits}\n",
    "g"
   ]
  },
  {
   "cell_type": "code",
   "execution_count": null,
   "metadata": {},
   "outputs": [],
   "source": [
    "# Map function"
   ]
  },
  {
   "cell_type": "code",
   "execution_count": null,
   "metadata": {},
   "outputs": [],
   "source": [
    "# calculate the square\n",
    "\n",
    "num = [1,2,3,4,5]\n",
    "\n",
    "def getsquare(n):  # logic to find square of number\n",
    "    return n*n\n",
    "\n",
    "# map(-function_, _data)\n",
    "\n",
    "squ_num = list(map(getsquare, num))\n",
    "squ_num"
   ]
  },
  {
   "cell_type": "code",
   "execution_count": null,
   "metadata": {},
   "outputs": [],
   "source": [
    "# above value is not readable so ned to convert to list\n",
    "print(list(squ_num))"
   ]
  },
  {
   "cell_type": "code",
   "execution_count": null,
   "metadata": {},
   "outputs": [],
   "source": [
    "# same code with lambds operator\n",
    "print(list(map(lambda x: x**2 ,num)))"
   ]
  },
  {
   "cell_type": "code",
   "execution_count": null,
   "metadata": {},
   "outputs": [],
   "source": [
    "salary = [2500,8100, 9000,6999]\n",
    "# there is a increment of 5000, so print the new salary\n",
    "\n",
    "def new_sal(n):\n",
    "    return n+5000\n",
    "New_Salary = list(map(new_sal,salary))\n",
    "New_Salary"
   ]
  },
  {
   "cell_type": "code",
   "execution_count": null,
   "metadata": {},
   "outputs": [],
   "source": [
    "# same code with lambds operator\n",
    "print(list(map(lambda n : n+5000, salary)))"
   ]
  },
  {
   "cell_type": "code",
   "execution_count": null,
   "metadata": {},
   "outputs": [],
   "source": [
    "salary = [2500,8100, 9000,6999]\n",
    "# there is a increment of 5000, so print the new salary\n",
    "#old salary : new salary\n",
    "\n",
    "salary = [2500,8100, 9000,6999]\n",
    "def new_sal(n):\n",
    "    return n+5000\n",
    "new_salary = list(map( new_sal,salary))\n",
    "new_salary"
   ]
  },
  {
   "cell_type": "code",
   "execution_count": null,
   "metadata": {},
   "outputs": [],
   "source": [
    "# now print out put as : old salary : new salary suppose increment is 50% of old salary"
   ]
  },
  {
   "cell_type": "code",
   "execution_count": null,
   "metadata": {},
   "outputs": [],
   "source": [
    "sal_map = { n : n* 1.5 for n in salary}\n",
    "sal_map"
   ]
  },
  {
   "cell_type": "code",
   "execution_count": null,
   "metadata": {},
   "outputs": [],
   "source": [
    "# Filter"
   ]
  },
  {
   "cell_type": "code",
   "execution_count": null,
   "metadata": {},
   "outputs": [],
   "source": [
    "#extract even numbers, so here need to make sub set, not to make a new set like square of the numbers etc.\n",
    "# filter \n",
    "numbers = [1,2,3,4,5,6,7,8,9,10]\n",
    "\n",
    "def geteven(n):\n",
    "    if n%2 == 0:\n",
    "        return True\n",
    "even_num = list(filter(geteven, numbers)) # filter will return the values as per the fed logic when the retrun will be True\n",
    "even_num"
   ]
  },
  {
   "cell_type": "code",
   "execution_count": null,
   "metadata": {},
   "outputs": [],
   "source": [
    "# same code with lambds operator\n",
    "\n",
    "print(list(filter(lambda x : x%2 == 0, numbers)))"
   ]
  },
  {
   "cell_type": "code",
   "execution_count": null,
   "metadata": {},
   "outputs": [],
   "source": [
    "users = ['Ram', 'ajay', 'eesha', 'sohan', 'isha']\n",
    "# filter names start with vowel"
   ]
  },
  {
   "cell_type": "code",
   "execution_count": null,
   "metadata": {},
   "outputs": [],
   "source": [
    "# using filter function extract names starting with vowel\n",
    "\n",
    "users = ['ram', 'ajay', 'eesha', 'sohan', 'isha']\n",
    "def getvowel(n):\n",
    "    if n[0] in 'aeiou':\n",
    "        return True\n",
    "list(filter(getvowel, users)) # filter will extract those numbers for which \"TRUE\" will return\n",
    "# filter function extract each name from users and assign it to n; then if n[0] = \"aeiou\" it return True else False"
   ]
  },
  {
   "cell_type": "code",
   "execution_count": null,
   "metadata": {},
   "outputs": [],
   "source": [
    "# same code with lambds operator\n",
    "print(list(filter( lambda x : x[0] in 'aeiou', users)))"
   ]
  },
  {
   "cell_type": "code",
   "execution_count": null,
   "metadata": {},
   "outputs": [],
   "source": [
    "# extract numbers greater than or equal to 15\n",
    "numbers = [10,45,3,9,17,55,30,2,6,1]\n",
    "\n",
    "def greaterthan15 (n):\n",
    "    return n >= 15  # here if function is not required as n >= 15 is boolean \n",
    "list(filter(greaterthan15, numbers))"
   ]
  },
  {
   "cell_type": "code",
   "execution_count": null,
   "metadata": {},
   "outputs": [],
   "source": [
    "# same code with lambds operator\n",
    "print(list(filter(lambda x: x>= 15, numbers)))"
   ]
  },
  {
   "cell_type": "code",
   "execution_count": null,
   "metadata": {},
   "outputs": [],
   "source": [
    "def getme (n):\n",
    "    if n >= 15:  # alternatively with if loop\n",
    "        return True\n",
    "\n",
    "list(filter(getme,numbers))"
   ]
  },
  {
   "cell_type": "markdown",
   "metadata": {},
   "source": [
    "**Reduce**"
   ]
  },
  {
   "cell_type": "code",
   "execution_count": null,
   "metadata": {},
   "outputs": [],
   "source": [
    "numbers = [2,4,7,3] # want to do sum\n",
    "\n",
    "from functools import reduce\n",
    "def sum(x,y):\n",
    "    return x+y\n",
    "reduce(sum, numbers)"
   ]
  },
  {
   "cell_type": "code",
   "execution_count": null,
   "metadata": {},
   "outputs": [],
   "source": [
    "# same code with lambds operator\n",
    "print(reduce(lambda x,y : x+y, numbers))"
   ]
  },
  {
   "cell_type": "code",
   "execution_count": null,
   "metadata": {},
   "outputs": [],
   "source": [
    "# how does it work\n",
    "# x = 2, y = 4\n",
    "# x = 6, y = 7\n",
    "# x = 13, y = 3\n",
    "# x = 16\n",
    "# so return x as 16"
   ]
  },
  {
   "cell_type": "code",
   "execution_count": null,
   "metadata": {},
   "outputs": [],
   "source": [
    "# to solve \n",
    "#lambda expression helps in writing single line of code\n",
    "# lamda is a simplified version of function"
   ]
  },
  {
   "cell_type": "code",
   "execution_count": null,
   "metadata": {},
   "outputs": [],
   "source": [
    "# it is a simpligied version "
   ]
  },
  {
   "cell_type": "code",
   "execution_count": null,
   "metadata": {},
   "outputs": [],
   "source": [
    "def getnext(n):\n",
    "    return n+1\n",
    "getnext(6)"
   ]
  },
  {
   "cell_type": "code",
   "execution_count": null,
   "metadata": {},
   "outputs": [],
   "source": [
    "getnext = lambda x : x+1 # annonymous function\n",
    "getnext(5)"
   ]
  },
  {
   "cell_type": "code",
   "execution_count": null,
   "metadata": {},
   "outputs": [],
   "source": [
    "up = lambda name : name.upper()\n",
    "up('sunnet')"
   ]
  },
  {
   "cell_type": "code",
   "execution_count": null,
   "metadata": {},
   "outputs": [],
   "source": [
    "add = lambda x,y : x+y+7 \n",
    "add(5,6)\n",
    "# note: parathese after lambda will not work"
   ]
  },
  {
   "cell_type": "code",
   "execution_count": null,
   "metadata": {},
   "outputs": [],
   "source": [
    "numbers = [1,5,7,10,27,30]\n",
    "\n",
    "list (filter( lambda n: n %5 == 0, numbers))"
   ]
  },
  {
   "cell_type": "code",
   "execution_count": null,
   "metadata": {},
   "outputs": [],
   "source": [
    "numbers = [1,5,8,10,27,30,40,45,49]\n",
    "\n",
    "# filter the multiple of 5 from numbers using filter and lamda function\n",
    "\n",
    "print(list(filter(lambda x : x%5 == 0, numbers)))"
   ]
  },
  {
   "cell_type": "code",
   "execution_count": null,
   "metadata": {},
   "outputs": [],
   "source": [
    "import pandas as pd\n",
    "import os\n"
   ]
  },
  {
   "cell_type": "code",
   "execution_count": null,
   "metadata": {},
   "outputs": [],
   "source": [
    "pokemon = open('D:\\pokemon.csv').readlines()\n",
    "pokemon"
   ]
  },
  {
   "cell_type": "code",
   "execution_count": null,
   "metadata": {},
   "outputs": [],
   "source": [
    "# Q1; what is the type of the data\n",
    "type(pokemon)"
   ]
  },
  {
   "cell_type": "code",
   "execution_count": null,
   "metadata": {},
   "outputs": [],
   "source": [
    "# Q2:remove the header and keep the reamining data intact\n",
    "pokemon_data = pokemon[1:]\n",
    "pokemon_data"
   ]
  },
  {
   "cell_type": "code",
   "execution_count": null,
   "metadata": {},
   "outputs": [],
   "source": [
    "#Q3: create a a new list with top 5 pokemon\n",
    "top5 = pokemon_data[:6]\n",
    "top5"
   ]
  },
  {
   "cell_type": "code",
   "execution_count": null,
   "metadata": {},
   "outputs": [],
   "source": [
    "#Q4: create a new list with pokemon names only (exclude type of pokemon)\n",
    "pokemon_names = list(x.split(',')[0] for x in pokemon_data)\n",
    "pokemon_names"
   ]
  },
  {
   "cell_type": "code",
   "execution_count": null,
   "metadata": {},
   "outputs": [],
   "source": [
    "#Q5 : sort pokemon title in with sort()\n",
    "pokemon_names.sort()\n",
    "pokemon_names # sort() modifies the original list dose not form any new list"
   ]
  },
  {
   "cell_type": "code",
   "execution_count": null,
   "metadata": {},
   "outputs": [],
   "source": [
    "#Q6: sort pokemon title in with sorted\n",
    "pok_sorted = sorted(pokemon_names)\n",
    "pok_sorted"
   ]
  },
  {
   "cell_type": "code",
   "execution_count": null,
   "metadata": {},
   "outputs": [],
   "source": [
    "# refer to original data pokemon\n",
    "#Q7 : extract pokemon title with fire category using list comprehension\n",
    "pok_fire = list(x for x in pokemon if x.split(',')[1] == 'Fire\\n')\n",
    "pok_fire"
   ]
  },
  {
   "cell_type": "code",
   "execution_count": null,
   "metadata": {},
   "outputs": [],
   "source": [
    "# repeat above task with filetr and lambda function\n",
    "print(list(filter( lambda x : x.split(',')[1] == 'Fire\\n', pokemon)))"
   ]
  },
  {
   "cell_type": "code",
   "execution_count": null,
   "metadata": {},
   "outputs": [],
   "source": [
    "#Q8 : Print a list of unique pokemon types only\n",
    "\n",
    "set(x.split(',')[0] for x in pokemon_data)"
   ]
  },
  {
   "cell_type": "code",
   "execution_count": null,
   "metadata": {},
   "outputs": [],
   "source": [
    "# Q9: count the number of unique pokemon type\n",
    "# disired output: pokemontype : no of pokemon type\n",
    "# \n",
    "\n",
    "pok_type = list( x.split(',')[1][: -1] for x in pokemon_data)\n",
    "from collections import Counter \n",
    " \n",
    "Counter(pok_type)\n",
    "        \n",
    "        "
   ]
  },
  {
   "cell_type": "markdown",
   "metadata": {},
   "source": [
    "Class 0n 7th June'20 <br> Automated htings using Python"
   ]
  },
  {
   "cell_type": "code",
   "execution_count": null,
   "metadata": {},
   "outputs": [],
   "source": [
    "#Problem solving"
   ]
  },
  {
   "cell_type": "code",
   "execution_count": null,
   "metadata": {},
   "outputs": [],
   "source": [
    "# Game\n",
    "# Guess my number!\n",
    "\n",
    "# Ask the user to enter the name\n",
    "# there are total two players computer and user\n",
    "# Computer will generate a random number between (1-20)\n",
    "# then the user will be asked to enter  the guess(number)\n",
    "# if the number eneter by user is greater than computer generator number \n",
    "    # Print: your guess is too high\n",
    "# if the number eneter by user is lesser than computer generator number \n",
    "    # Print: your guess is too low\n",
    "# # if the number eneter by user is matces the computer generator number \n",
    "    # Print: you were able to guess the right number in ___<count> attempts\n",
    "# Total 6 attmpts is allowed\n",
    "# if the user can ot make the right guess in 6 attempt \n",
    "    # print: you have run out of attempts."
   ]
  },
  {
   "cell_type": "code",
   "execution_count": null,
   "metadata": {},
   "outputs": [],
   "source": [
    "print( \"Hey budd lets play a game\")\n",
    "name = input(\"May I know your name? \")\n",
    "print(\"Let me a guess a numer for you\")\n",
    "import random\n",
    "num = random.randint(1,20)\n",
    "count = 0\n",
    "\n",
    "while count < 6 :\n",
    "    guess = int(input('Guess a number up to 20 :__'))\n",
    "    count = count + 1\n",
    "    if guess > num:\n",
    "        print('You have guessed too high')\n",
    "    if guess < num:\n",
    "        print('You have guessed too low')\n",
    "    if guess == num:\n",
    "        break\n",
    "\n",
    "if guess == num:\n",
    "    count = str(count)\n",
    "    print('You are able to match the number in ' + count+ ' attempt')\n",
    "if guess != num:\n",
    "    num = str(num)\n",
    "    print('I have gussed ' + num)\n",
    "if count == 6:\n",
    "    print('You have run out of attempt')"
   ]
  },
  {
   "cell_type": "code",
   "execution_count": null,
   "metadata": {},
   "outputs": [],
   "source": [
    "# game : Rock Paper Scissor\n",
    "\n",
    "# Split\n",
    "# 1there are two players one is computer and one is you\n",
    "#2 generate a random no between 1 & 3\n",
    "    # computer_choioce = \"r\" pr \"p\" or \"s\" \n",
    "    # use if-else to assign value to computer_choice\n",
    "# 3playerMove = ask the user for his choice \n",
    "        # if the user put wrong input (other than \"r\", \"s\",\"p\") ask him infinyitely(loop)\n",
    "# 4: compare computer choice against playersMove\n",
    "        # Condition \n",
    "            # rock wins over scissor\n",
    "            # paper wins over rock\n",
    "            # scissor wins over paper\n",
    "            # adda conditon for tie as well\n",
    "            # rest condition lead to loss of game \n",
    "\n",
    "# split 2\n",
    "# ceate three variables\n",
    "    # wins\n",
    "    # losses\n",
    "    # ties\n",
    "# after every game : display total wins, losses and wins\n",
    "\n",
    "\n",
    "\n",
    "\n"
   ]
  },
  {
   "cell_type": "code",
   "execution_count": null,
   "metadata": {},
   "outputs": [],
   "source": [
    "print(\"Hi buddy!! Welcome to rock paper scissor game; You and I will play now\")\n",
    "import random # for random number\n",
    "import sys # for escape\n",
    "w = 0\n",
    "l = 0\n",
    "t = 0\n",
    "\n",
    "while True:                                   # infinite loop here main game loop\n",
    "    print('%s Wins,%s Loss,%s Tie' % (w,l,t))\n",
    "    while True:\n",
    "        print('Enter your move: (r)ock, (p)aper, (s)cissors or (q)uit')\n",
    "        pm = input()\n",
    "        if pm == 'q':\n",
    "            sys.exit()\n",
    "        elif pm == 'r' or 's' or 'p':\n",
    "            break                           #break out of the player input look\n",
    "        if pm != 'r' or pm != 's' or pm != 'p' or pm != 'q':\n",
    "            print('Oops! This is Rock, Paper, Scissor Game. Pleae type one of r,s,p or q')\n",
    "        \n",
    "        \n",
    "    # to show what user has choosen\n",
    "    # pm = players Move\n",
    "    if pm == 'r':\n",
    "        print('Rock versus .....')\n",
    "    elif pm == 's':\n",
    "        print('Scissor versus .....')\n",
    "    elif pm == 'p':\n",
    "        print('Paper versus .....')\n",
    "\n",
    "    # computer simulation \n",
    "    # cc = Computer Choice\n",
    "    number = random.randint(1,3)\n",
    "    if number == 1:\n",
    "        cc = 'r'\n",
    "        print('my choice of Rock')\n",
    "    elif number == 2:\n",
    "        cc = 's'\n",
    "        print('my choice of Scissor')\n",
    "    elif number == 3:\n",
    "        cc = 'p'\n",
    "        print('my choice of Paper')\n",
    "        \n",
    "        \n",
    "    # decide for win or loss or tie\n",
    "    if pm == cc:\n",
    "        print(\"It is Tie\")\n",
    "        t = t +1\n",
    "    elif pm == \"r\" and cc == \"s\":\n",
    "        w = w + 1\n",
    "        print('Woow! You win')\n",
    "    elif pm == \"p\" and cc == 'r':\n",
    "        w = w+1\n",
    "        print('Woow! You win')\n",
    "    elif pm == \"s\" and cc == 'p':\n",
    "        w = w+1\n",
    "        print('Woow! You win')\n",
    "    elif pm == \"r\" and cc == \"c\":\n",
    "        l = l + 1\n",
    "        print('sad! You lose')\n",
    "    elif pm == \"r\" and cc == \"p\":\n",
    "        l = l + 1\n",
    "        print('sad! You lose')\n",
    "    elif pm == \"p\" and cc == \"c\":\n",
    "        l = l + 1\n",
    "        print('sad! You lose')\n",
    "    elif pm == \"p\" and cc == \"s\":\n",
    "        l = l + 1\n",
    "        print('sad! You lose')\n",
    "    elif pm == \"s\" and cc == \"c\":\n",
    "        l = l + 1\n",
    "        print('sad! You lose')\n",
    "    elif pm == \"s\" and cc == \"r\":\n",
    "        l = l + 1\n",
    "        print('sad! You lose')"
   ]
  },
  {
   "cell_type": "code",
   "execution_count": 31,
   "metadata": {},
   "outputs": [
    {
     "name": "stdout",
     "output_type": "stream",
     "text": [
      "amar is learning python\n"
     ]
    }
   ],
   "source": [
    "user = 'amar'\n",
    "course = 'python'\n",
    "print(user + \" is learning \" + course)"
   ]
  },
  {
   "cell_type": "code",
   "execution_count": 40,
   "metadata": {},
   "outputs": [
    {
     "name": "stdout",
     "output_type": "stream",
     "text": [
      "amar  is learning  python\n"
     ]
    }
   ],
   "source": [
    "print('%s  is learning  %s' % (user,course))"
   ]
  },
  {
   "cell_type": "code",
   "execution_count": 38,
   "metadata": {},
   "outputs": [
    {
     "name": "stdout",
     "output_type": "stream",
     "text": [
      "amar is lerning python\n"
     ]
    }
   ],
   "source": [
    "print('{} is lerning {}' .format(user, course))"
   ]
  },
  {
   "cell_type": "code",
   "execution_count": 43,
   "metadata": {},
   "outputs": [
    {
     "name": "stdout",
     "output_type": "stream",
     "text": [
      "something wrong has happened\n"
     ]
    }
   ],
   "source": [
    "# exception handling : this dose not stop in execution of the progrramme even if there is run time error\n",
    "x = 10\n",
    "y = 0\n",
    "\n",
    "try:\n",
    "    result = x/y\n",
    "    print(result)\n",
    "except:\n",
    "    print('something wrong has happened')"
   ]
  },
  {
   "cell_type": "code",
   "execution_count": 52,
   "metadata": {},
   "outputs": [
    {
     "name": "stdout",
     "output_type": "stream",
     "text": [
      "You want to use my Stop Watch?\n",
      "You need to enter when you want to start & then again enter when you want to stop\n",
      "\n",
      "Started\n",
      "\n",
      "Total time taken: 3 Sec\n",
      "Done\n"
     ]
    }
   ],
   "source": [
    "# Stopwatch\n",
    "\n",
    "import time                 # to import time module\n",
    "print('You want to use my Stop Watch?')\n",
    "print('You need to enter when you want to start & then again enter when you want to stop')\n",
    "input()                    # Here input() put a hault in the system\n",
    "print('Started')\n",
    "start_time = time.time()   # this is capture the present time by time.time()\n",
    "\n",
    "input()                   # again here input() put a hault in the system\n",
    "total_time = round(time.time() - start_time)\n",
    "print('Total time taken: %s' % (total_time) + ' Sec')\n",
    "print('Done')"
   ]
  },
  {
   "cell_type": "code",
   "execution_count": 3,
   "metadata": {},
   "outputs": [],
   "source": [
    "import pyautogui"
   ]
  },
  {
   "cell_type": "code",
   "execution_count": 4,
   "metadata": {},
   "outputs": [
    {
     "data": {
      "text/plain": [
       "Size(width=1366, height=768)"
      ]
     },
     "execution_count": 4,
     "metadata": {},
     "output_type": "execute_result"
    }
   ],
   "source": [
    "wh = pyautogui.size() # screen resolution by calling .size() function \n",
    "wh"
   ]
  },
  {
   "cell_type": "code",
   "execution_count": 18,
   "metadata": {},
   "outputs": [],
   "source": [
    "# moving the mouse\n",
    "pyautogui.moveTo(0,0) # x & y coordinate"
   ]
  },
  {
   "cell_type": "code",
   "execution_count": 22,
   "metadata": {},
   "outputs": [],
   "source": [
    "pyautogui.moveTo(500,100, duration = 5) # here moveTo will happen in given duration second"
   ]
  },
  {
   "cell_type": "code",
   "execution_count": 46,
   "metadata": {},
   "outputs": [],
   "source": [
    "# move cursor in a square direction\n",
    "\n",
    "for i in range(6):\n",
    "    pyautogui.moveTo(100,100, duration = 0.5)\n",
    "    pyautogui.moveTo(500,100, duration = 0.5)\n",
    "    pyautogui.moveTo(500,500, duration = 0.5)\n",
    "    pyautogui.moveTo(100,500, duration = 0.5)"
   ]
  },
  {
   "cell_type": "code",
   "execution_count": 30,
   "metadata": {},
   "outputs": [],
   "source": [
    "\n",
    "for i in range(6):\n",
    "    pyautogui.move(100,0, duration = 0.5)\n",
    "    pyautogui.move(0,100, duration = 0.5)\n",
    "    pyautogui.move(-100,500, duration = 0.5)\n",
    "    pyautogui.move(0,-100, duration = 0.5)"
   ]
  },
  {
   "cell_type": "code",
   "execution_count": 32,
   "metadata": {},
   "outputs": [
    {
     "data": {
      "text/plain": [
       "Point(x=1265, y=698)"
      ]
     },
     "execution_count": 32,
     "metadata": {},
     "output_type": "execute_result"
    }
   ],
   "source": [
    "# current mouse position\n",
    "pyautogui.position()"
   ]
  },
  {
   "cell_type": "code",
   "execution_count": 34,
   "metadata": {},
   "outputs": [],
   "source": [
    "pyautogui.click(151,129) # click the cursour at given x,y coordinate"
   ]
  },
  {
   "cell_type": "code",
   "execution_count": 45,
   "metadata": {},
   "outputs": [],
   "source": [
    "# to drag the cursour\n",
    "pyautogui.drag(100,100)\n",
    "# pyautogui automate many things, with above code cursor will drag on this line"
   ]
  },
  {
   "cell_type": "code",
   "execution_count": null,
   "metadata": {},
   "outputs": [],
   "source": []
  },
  {
   "cell_type": "code",
   "execution_count": null,
   "metadata": {},
   "outputs": [],
   "source": []
  },
  {
   "cell_type": "code",
   "execution_count": null,
   "metadata": {},
   "outputs": [],
   "source": []
  },
  {
   "cell_type": "code",
   "execution_count": null,
   "metadata": {},
   "outputs": [],
   "source": []
  },
  {
   "cell_type": "code",
   "execution_count": null,
   "metadata": {},
   "outputs": [],
   "source": []
  }
 ],
 "metadata": {
  "kernelspec": {
   "display_name": "Python 3",
   "language": "python",
   "name": "python3"
  },
  "language_info": {
   "codemirror_mode": {
    "name": "ipython",
    "version": 3
   },
   "file_extension": ".py",
   "mimetype": "text/x-python",
   "name": "python",
   "nbconvert_exporter": "python",
   "pygments_lexer": "ipython3",
   "version": "3.7.6"
  }
 },
 "nbformat": 4,
 "nbformat_minor": 4
}
